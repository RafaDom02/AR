{
  "nbformat": 4,
  "nbformat_minor": 0,
  "metadata": {
    "anaconda-cloud": {},
    "colab": {
      "provenance": []
    },
    "kernelspec": {
      "display_name": "Python 3",
      "language": "python",
      "name": "python3"
    },
    "language_info": {
      "codemirror_mode": {
        "name": "ipython",
        "version": 3
      },
      "file_extension": ".py",
      "mimetype": "text/x-python",
      "name": "python",
      "nbconvert_exporter": "python",
      "pygments_lexer": "ipython3",
      "version": "3.5.6"
    }
  },
  "cells": [
    {
      "cell_type": "markdown",
      "source": [
        "<font color=\"#CA3532\"><h1 align=\"left\">**Práctica 2 de Aprendizaje por Refuerzo**</h1></font>\n",
        "<font color=\"#6E6E6E\"><h2 align=\"left\">**Multiarmed Bandits**</h2></font>"
      ],
      "metadata": {
        "id": "bx85PgN8OyhG"
      }
    },
    {
      "cell_type": "markdown",
      "metadata": {
        "id": "DcnnkNilDuKf"
      },
      "source": [
        "# **Multiarmed bandits para Credit Scoring**"
      ]
    },
    {
      "cell_type": "markdown",
      "source": [
        "El objetivo es construir un sistema automático de aprendizaje por refuerzo para gestionar un sistema de concesión de créditos.\n",
        "La idea es que cuando un cliente contacte con el banco para solicitar un crédito, el sistema se lo conceda (acción 1) o no (acción 0).\n",
        "Por tanto el sistema de aprendizaje por refuerzo tiene **dos posibles acciones**.\n",
        "\n",
        "Por otra parte, el reward obtenido es:\n",
        "\n",
        "- 0 si el sistema decide no ofrecerle el crédito al cliente\n",
        "- 1 si se le ofrece el crédito y **lo paga**\n",
        "- -10 si se le ofrece crédito y **no lo paga**\n",
        "\n",
        "Para construir el sistema disponemos del siguiente dataset: https://drive.google.com/file/d/1TdTDAjndt5sn_7HKwc1PifcaQTRNHzkR/view?usp=sharing\n",
        "\n",
        "\n",
        "A continuación se descarga y muestra:"
      ],
      "metadata": {
        "id": "Jxi-eOnaQbH4"
      }
    },
    {
      "cell_type": "code",
      "source": [
        "COLAB = True"
      ],
      "metadata": {
        "id": "0WToo6YOOo-y"
      },
      "execution_count": null,
      "outputs": []
    },
    {
      "cell_type": "code",
      "metadata": {
        "id": "CxwJKtc-ISnD"
      },
      "source": [
        "import pandas as pd\n",
        "pd.options.display.max_colwidth = 200\n",
        "\n",
        "# Descargamos dataset:\n",
        "aux = \"'https://docs.google.com/uc?export=download&id=1twvCaa27x8aOcwkaMyCu-RxgTe3ivVxR&confirm=t'\"\n",
        "!wget -q $aux -O ./cs.csv\n",
        "aux = \"'https://docs.google.com/uc?export=download&id=1yZNmK6yWl3IzvDGxNZRlyZVbh3oxpO_b&confirm=t'\"\n",
        "!wget -q $aux -O ./DataDictionary.csv"
      ],
      "execution_count": null,
      "outputs": []
    },
    {
      "cell_type": "markdown",
      "source": [
        "**Información sobre cada variable:**"
      ],
      "metadata": {
        "id": "sI1C0-YeXP4x"
      }
    },
    {
      "cell_type": "code",
      "source": [
        "info_variables = pd.read_csv(\"DataDictionary.csv\", sep=\";\").set_index(\"Variable Name\")\n",
        "info_variables"
      ],
      "metadata": {
        "id": "oVgn7OxIWCgI"
      },
      "execution_count": null,
      "outputs": []
    },
    {
      "cell_type": "markdown",
      "source": [
        "**Base de datos:**"
      ],
      "metadata": {
        "id": "8XNI9JMBXNZw"
      }
    },
    {
      "cell_type": "code",
      "source": [
        "df = pd.read_csv(\"./cs.csv\")\n",
        "df.head(10)"
      ],
      "metadata": {
        "id": "itMi5ivXVPgn"
      },
      "execution_count": null,
      "outputs": []
    },
    {
      "cell_type": "code",
      "source": [
        "df.describe().T[[\"count\", \"min\", \"max\", \"mean\", \"std\"]]"
      ],
      "metadata": {
        "id": "-RM6yt4-J88D"
      },
      "execution_count": null,
      "outputs": []
    },
    {
      "cell_type": "code",
      "source": [
        "df.isna().sum()"
      ],
      "metadata": {
        "id": "WG_ftQf1LQiB"
      },
      "execution_count": null,
      "outputs": []
    },
    {
      "cell_type": "code",
      "source": [
        "(df[\"MonthlyIncome\"].isna() & df[\"NumberOfDependents\"].isna()).sum()"
      ],
      "metadata": {
        "id": "AnySzcmOJ8--"
      },
      "execution_count": null,
      "outputs": []
    },
    {
      "cell_type": "code",
      "source": [
        "df[\"age\"].hist(bins=20);"
      ],
      "metadata": {
        "id": "Mhs-BQ56J9Cd"
      },
      "execution_count": null,
      "outputs": []
    },
    {
      "cell_type": "code",
      "source": [
        "df[\"NumberOfTime30-59DaysPastDueNotWorse\"].value_counts()"
      ],
      "metadata": {
        "id": "E35zNgfDJ9E4"
      },
      "execution_count": null,
      "outputs": []
    },
    {
      "cell_type": "code",
      "source": [
        "# limpieza básica:\n",
        "#\n",
        "# 1- Eliminamos filas con missing values (MonthlyIncome y NumberOfDependents)\n",
        "# 2- Nos quedamos solo con personas de 18 a 70 años (incluidos)\n",
        "# 3- Eliminamos filas que tengan 96 o 98 en columnas de retraso\n",
        "#    (NumberOfTime30-59DaysPastDueNotWorse, NumberOfTime60-89DaysPastDueNotWorse,\n",
        "#     NumberOfTimes90DaysLate)\n",
        "\n",
        "df.dropna(inplace=True)\n",
        "df = df[ (df[\"age\"]>=18) & (df[\"age\"]<=70) ]\n",
        "\n",
        "df = df[ ~df[\"NumberOfTime30-59DaysPastDueNotWorse\"].isin([96, 98]) ]\n",
        "df = df[ ~df[\"NumberOfTime60-89DaysPastDueNotWorse\"].isin([96, 98]) ]\n",
        "df = df[ ~df[\"NumberOfTimes90DaysLate\"].isin([96, 98]) ]"
      ],
      "metadata": {
        "id": "JiadOarZPO4C"
      },
      "execution_count": null,
      "outputs": []
    },
    {
      "cell_type": "code",
      "source": [
        "df.describe().T"
      ],
      "metadata": {
        "id": "aVVgx2eLP4xY"
      },
      "execution_count": null,
      "outputs": []
    },
    {
      "cell_type": "markdown",
      "metadata": {
        "id": "cjoL4G6AENmk"
      },
      "source": [
        "La columna **SeriousDlqin2yrs** es 0 si el cliente paga el crédito, y 1 si no lo paga."
      ]
    },
    {
      "cell_type": "markdown",
      "source": [
        "Ahora dividimos el dataset en training y test:"
      ],
      "metadata": {
        "id": "kMuHirqXJsAT"
      }
    },
    {
      "cell_type": "code",
      "source": [
        "from sklearn.model_selection import train_test_split\n",
        "\n",
        "df_train, df_test = train_test_split(df, random_state=1, test_size=0.3, stratify=df[\"SeriousDlqin2yrs\"])"
      ],
      "metadata": {
        "id": "FbDEYWzJJvkV"
      },
      "execution_count": null,
      "outputs": []
    },
    {
      "cell_type": "code",
      "source": [
        "# frecuencia de impagos en training y test (en tanto por 1):\n",
        "df_train[\"SeriousDlqin2yrs\"].mean(), df_test[\"SeriousDlqin2yrs\"].mean()"
      ],
      "metadata": {
        "id": "XUaBPgU0TdDx"
      },
      "execution_count": null,
      "outputs": []
    },
    {
      "cell_type": "code",
      "source": [
        "# Defino clase clientes:\n",
        "\n",
        "class clientes:\n",
        "    def __init__(self, df): # self: parámetros internos\n",
        "        # mi clase va a tener dos parámetros internos:\n",
        "        # i, df\n",
        "        self.i = -1 # i: contador (de clientes); índice al último cliente mostrado\n",
        "        self.df = df\n",
        "    def cliente(self): # va a simular que llega un cliente\n",
        "        self.i = self.i + 1\n",
        "        if self.i == len(self.df):\n",
        "            self.i = 0\n",
        "    def get_context(self): # va a extraer datos de ese cliente\n",
        "        return self.df.iloc[self.i].drop(\"SeriousDlqin2yrs\")\n",
        "    def get_reward(self, accion): # reward con ese cliente\n",
        "        # calculo reward:\n",
        "        if accion==0: # no se da crédito\n",
        "            return 0\n",
        "        # se da crédito:\n",
        "        if self.df.iloc[self.i][\"SeriousDlqin2yrs\"] == 1: # no paga\n",
        "            return -10\n",
        "        return 1 # paga"
      ],
      "metadata": {
        "id": "krELdxYQX7Y-"
      },
      "execution_count": null,
      "outputs": []
    },
    {
      "cell_type": "code",
      "source": [
        "# clientes: una clase\n",
        "# cl_train: una instancia de esa clase\n",
        "# cl_test: otra instancia de esa clase\n",
        "#\n",
        "# podemos ver cl_train como una \"caja\" donde hemos\n",
        "# metido el dataset de entrenamiento y va a haber\n",
        "# métodos que me permiten interaccionar con él\n",
        "#\n",
        "# Lo mismo con cl_test, pero para los datos de test\n",
        "\n",
        "cl_train = clientes(df_train)\n",
        "cl_test  = clientes(df_test)"
      ],
      "metadata": {
        "id": "8IDBuhXHMaZ2"
      },
      "execution_count": null,
      "outputs": []
    },
    {
      "cell_type": "code",
      "source": [
        "cl_train.cliente() # simulo que llega un cliente nuevo"
      ],
      "metadata": {
        "id": "KRykQEHGMgMF"
      },
      "execution_count": null,
      "outputs": []
    },
    {
      "cell_type": "code",
      "source": [
        "cl_train.get_context()"
      ],
      "metadata": {
        "id": "oCGuz2BHMrnT"
      },
      "execution_count": null,
      "outputs": []
    },
    {
      "cell_type": "code",
      "source": [
        "cl_train.get_context().values"
      ],
      "metadata": {
        "id": "_xMOjfOgVzq9"
      },
      "execution_count": null,
      "outputs": []
    },
    {
      "cell_type": "code",
      "source": [
        "cl_train.cliente()\n",
        "cl_train.get_context()"
      ],
      "metadata": {
        "id": "uS-XoSy5Mvnb"
      },
      "execution_count": null,
      "outputs": []
    },
    {
      "cell_type": "code",
      "source": [
        "cl_train.get_reward(1)"
      ],
      "metadata": {
        "id": "UzFemdPdM0Lr"
      },
      "execution_count": null,
      "outputs": []
    },
    {
      "cell_type": "markdown",
      "metadata": {
        "id": "wiykx8oMq8-t"
      },
      "source": [
        "# **Tareas a realizar**"
      ]
    },
    {
      "cell_type": "markdown",
      "source": [
        "1- Calcula la evolución del reward total y regret total en training de:\n",
        " a) un algoritmo aleatorio\n",
        " b) un algoritmo que siempre da el crédito\n",
        " c) un algoritmo que nunca da el crédito\n",
        "\n",
        " Calcula en otra gráfica la evolución de su reward promedio y regret promedio. ¿Tienen sentido los resultados?\n",
        "\n",
        "2- Entrena un multiarmed bandit **no contextual** en training. Calcula las mismas métricas que en el punto 1. ¿Cuál es la estrategia que aprende el modelo?\n",
        "\n",
        "3- Entrena un multiarmed bandit contextual lineal en training. Calcula las mismas métricas que en los puntos anteriores\n",
        "\n",
        "4- Calcula, para algunos clientes de training, las Q dadas por el modelo para cada acción. Chequea si obtienes los mismos valores calculándolos tú. Chequea si la acción elegida por el modelo es la de mayor Q.\n",
        "\n",
        "5- Calcula en test el rendimiento del algoritmo de multiarmed bandit. Compáralo con el grupo de control de test (reserva un 10% de clientes en test como grupo de control).\n",
        "\n",
        "6- Obtén la interpretabilidad del modelo. ¿En qué variables se está fijando para decidir?\n",
        "\n",
        "7- Qué ocurre en los puntos anteriores si ahora la penalización cuando el banco da un crédito a un cliente que no paga es -1? ¿Y si se va haciendo aún más pequeña la penalización?\n",
        "\n",
        "8- Optimiza tu sistema haciendo selección de variables.\n",
        "\n",
        "9- (Opcional). Investiga otras librerías que permitan implementar multiarmed bandits contextuales no lineales. Toma una de ellas y vuelve a realizar la tarea 3."
      ],
      "metadata": {
        "id": "7Yvdy7Z8Yhe5"
      }
    },
    {
      "cell_type": "markdown",
      "source": [
        "### Tarea 1"
      ],
      "metadata": {
        "id": "7tq-PdkFZzez"
      }
    },
    {
      "cell_type": "code",
      "source": [
        "from tqdm import tqdm\n",
        "import numpy as np\n",
        "import matplotlib.pyplot as plt"
      ],
      "metadata": {
        "id": "oy4bFAGal0Pd"
      },
      "execution_count": null,
      "outputs": []
    },
    {
      "cell_type": "code",
      "source": [],
      "metadata": {
        "id": "8IQj6bULUsH8"
      },
      "execution_count": null,
      "outputs": []
    },
    {
      "cell_type": "code",
      "source": [],
      "metadata": {
        "id": "hB4MMd0fbcNz"
      },
      "execution_count": null,
      "outputs": []
    },
    {
      "cell_type": "code",
      "source": [],
      "metadata": {
        "id": "4iz8N_reU-gn"
      },
      "execution_count": null,
      "outputs": []
    },
    {
      "cell_type": "markdown",
      "source": [
        "### Tarea 2"
      ],
      "metadata": {
        "id": "31OuG16DGoxJ"
      }
    },
    {
      "cell_type": "code",
      "source": [],
      "metadata": {
        "id": "jUwLeGbPGo6x"
      },
      "execution_count": null,
      "outputs": []
    },
    {
      "cell_type": "code",
      "source": [],
      "metadata": {
        "id": "NiVOOipDGo98"
      },
      "execution_count": null,
      "outputs": []
    },
    {
      "cell_type": "code",
      "source": [],
      "metadata": {
        "id": "Fmar0Jb1U_Ll"
      },
      "execution_count": null,
      "outputs": []
    },
    {
      "cell_type": "markdown",
      "source": [
        "### Tarea 3"
      ],
      "metadata": {
        "id": "Pq2MI1LAYQzM"
      }
    },
    {
      "cell_type": "code",
      "source": [
        "if COLAB:\n",
        "  aux = \"'https://docs.google.com/uc?export=download&id=1RGxAJE4jAJAdhsoMyXiYPiqiRUd7y2KR&confirm=t'\"\n",
        "  !wget $aux -O ./spacebandits.zip\n",
        "  !unzip -qq -o ./spacebandits\n",
        "  !rm ././spacebandits.zip"
      ],
      "metadata": {
        "id": "TsOXWq9icpgT"
      },
      "execution_count": null,
      "outputs": []
    },
    {
      "cell_type": "code",
      "source": [
        "from space_bandits import LinearBandits"
      ],
      "metadata": {
        "id": "aUgWgq9egge-"
      },
      "execution_count": null,
      "outputs": []
    },
    {
      "cell_type": "code",
      "source": [],
      "metadata": {
        "id": "SYXQFf3ZQEoN"
      },
      "execution_count": null,
      "outputs": []
    },
    {
      "cell_type": "code",
      "source": [],
      "metadata": {
        "id": "2nrSJlyFU__C"
      },
      "execution_count": null,
      "outputs": []
    },
    {
      "cell_type": "code",
      "source": [],
      "metadata": {
        "id": "xBYHFQxhVACH"
      },
      "execution_count": null,
      "outputs": []
    },
    {
      "cell_type": "markdown",
      "source": [
        "### Tarea 4"
      ],
      "metadata": {
        "id": "BnR8yJ-QYR-a"
      }
    },
    {
      "cell_type": "code",
      "source": [],
      "metadata": {
        "id": "oj8vVz9RqEHO"
      },
      "execution_count": null,
      "outputs": []
    },
    {
      "cell_type": "code",
      "source": [],
      "metadata": {
        "id": "nzScCIwtoOCT"
      },
      "execution_count": null,
      "outputs": []
    },
    {
      "cell_type": "code",
      "source": [],
      "metadata": {
        "id": "-bdCigaMcKi6"
      },
      "execution_count": null,
      "outputs": []
    },
    {
      "cell_type": "markdown",
      "source": [
        "### Tarea 5"
      ],
      "metadata": {
        "id": "SeupGxVjYUDC"
      }
    },
    {
      "cell_type": "code",
      "source": [],
      "metadata": {
        "id": "dZ-LNtFbYUXN"
      },
      "execution_count": null,
      "outputs": []
    },
    {
      "cell_type": "code",
      "source": [],
      "metadata": {
        "id": "igNTCI3zYVV4"
      },
      "execution_count": null,
      "outputs": []
    },
    {
      "cell_type": "code",
      "source": [],
      "metadata": {
        "id": "ATgJdWaTYVYc"
      },
      "execution_count": null,
      "outputs": []
    },
    {
      "cell_type": "markdown",
      "source": [
        "### Tarea 6"
      ],
      "metadata": {
        "id": "CXVUw_H6YWJI"
      }
    },
    {
      "cell_type": "code",
      "source": [],
      "metadata": {
        "id": "a8EZ-1fPraV_"
      },
      "execution_count": null,
      "outputs": []
    },
    {
      "cell_type": "code",
      "source": [],
      "metadata": {
        "id": "HrDT3U4SsUuf"
      },
      "execution_count": null,
      "outputs": []
    },
    {
      "cell_type": "code",
      "source": [],
      "metadata": {
        "id": "KfCObceksX3l"
      },
      "execution_count": null,
      "outputs": []
    },
    {
      "cell_type": "markdown",
      "source": [
        "### Tarea 7"
      ],
      "metadata": {
        "id": "xAR87YZFHQUD"
      }
    },
    {
      "cell_type": "code",
      "source": [],
      "metadata": {
        "id": "3n891JZqYVeQ"
      },
      "execution_count": null,
      "outputs": []
    },
    {
      "cell_type": "code",
      "source": [],
      "metadata": {
        "id": "7WoeS67VsGZT"
      },
      "execution_count": null,
      "outputs": []
    },
    {
      "cell_type": "code",
      "source": [],
      "metadata": {
        "id": "UuQQmuf8CMIj"
      },
      "execution_count": null,
      "outputs": []
    },
    {
      "cell_type": "markdown",
      "source": [],
      "metadata": {
        "id": "2hbBp_RoUy5I"
      }
    },
    {
      "cell_type": "markdown",
      "source": [
        "### Tarea 8"
      ],
      "metadata": {
        "id": "i5ou7EPAUy62"
      }
    },
    {
      "cell_type": "code",
      "source": [],
      "metadata": {
        "id": "H6vI1dapCzUi"
      },
      "execution_count": null,
      "outputs": []
    },
    {
      "cell_type": "code",
      "source": [],
      "metadata": {
        "id": "Z8nq1YnsU1ps"
      },
      "execution_count": null,
      "outputs": []
    },
    {
      "cell_type": "code",
      "source": [],
      "metadata": {
        "id": "Rsh_Z9nFU1sj"
      },
      "execution_count": null,
      "outputs": []
    },
    {
      "cell_type": "markdown",
      "source": [
        "### Tarea 9 (opcional)"
      ],
      "metadata": {
        "id": "j10BGGM7U13G"
      }
    },
    {
      "cell_type": "code",
      "source": [],
      "metadata": {
        "id": "2_l5GBt8U333"
      },
      "execution_count": null,
      "outputs": []
    },
    {
      "cell_type": "code",
      "source": [],
      "metadata": {
        "id": "GFfqzdYfU4Vd"
      },
      "execution_count": null,
      "outputs": []
    },
    {
      "cell_type": "code",
      "source": [],
      "metadata": {
        "id": "GvSSvfF3U4YR"
      },
      "execution_count": null,
      "outputs": []
    }
  ]
}